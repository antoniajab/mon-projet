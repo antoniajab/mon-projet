{
  "cells": [
    {
      "cell_type": "markdown",
      "source": [
        "#Exercice 1\n"
      ],
      "metadata": {
        "id": "k6-ldS2nHnJR"
      },
      "id": "k6-ldS2nHnJR"
    },
    {
      "cell_type": "code",
      "execution_count": null,
      "id": "a5191497",
      "metadata": {
        "colab": {
          "base_uri": "https://localhost:8080/"
        },
        "id": "a5191497",
        "outputId": "e9a4b790-d5bd-4e58-e4bf-28456680e222"
      },
      "outputs": [
        {
          "output_type": "stream",
          "name": "stdout",
          "text": [
            "[13, 2, 15, 6, 12, 9, 7]\n"
          ]
        }
      ],
      "source": [
        "import random\n",
        "print(random.sample(range(1,16),7))  #Tirage d'entiers sans remise, bornes incluses\n"
      ]
    },
    {
      "cell_type": "markdown",
      "id": "14f3f8fe",
      "metadata": {
        "id": "14f3f8fe"
      },
      "source": [
        "sample() est une fonction intégrée du module random en Python qui renvoie une liste de longueur\n",
        "particulière d’éléments choisis dans la séquence, c’est-à-dire une liste, un tuple, une string ou un ensemble. Utilisé pour l’échantillonnage aléatoire sans remise."
      ]
    },
    {
      "cell_type": "markdown",
      "source": [
        "#Exercice 2"
      ],
      "metadata": {
        "id": "TZdZv5nwH6mm"
      },
      "id": "TZdZv5nwH6mm"
    },
    {
      "cell_type": "code",
      "execution_count": null,
      "id": "fd40d23b",
      "metadata": {
        "colab": {
          "base_uri": "https://localhost:8080/"
        },
        "id": "fd40d23b",
        "outputId": "33cc9876-720f-4cd3-c1da-401f01290b1a"
      },
      "outputs": [
        {
          "output_type": "stream",
          "name": "stdout",
          "text": [
            "[24, 20, 13, 24, 11]\n"
          ]
        }
      ],
      "source": [
        "import random\n",
        "print([random.randint(11,24) for i in range(1,6)])  #Tirage d'entiers avec remise, bornes incluses"
      ]
    },
    {
      "cell_type": "markdown",
      "source": [
        "# Exercice 3"
      ],
      "metadata": {
        "id": "JfJHoTlOIPfs"
      },
      "id": "JfJHoTlOIPfs"
    },
    {
      "cell_type": "code",
      "execution_count": null,
      "id": "419d1f62",
      "metadata": {
        "colab": {
          "base_uri": "https://localhost:8080/"
        },
        "id": "419d1f62",
        "outputId": "712c5241-611f-4af3-bf78-8062598a3bfa"
      },
      "outputs": [
        {
          "output_type": "stream",
          "name": "stdout",
          "text": [
            "L'ensemble de mes cinq numéros choisis est [12, 41, 32, 5, 48]  et l'ensemble de mes deux étoiles choisies est [3, 7]\n"
          ]
        }
      ],
      "source": [
        "import random\n",
        "#1\n",
        "mes_numeros = [12,41,32,5,48]      # Mes 5 numéros choisis entre 1 et 50 (compris)\n",
        "mes_etoiles = [3,7]                # Mes étoiles choisies entre 1 et 11 (compris)\n",
        "prix_ticket = 2.5                  # Prix d'un ticket = 2.5 euros\n",
        "nb_simulations=100                 # Nombre de fois où je joue\n",
        "\n",
        "#2\n",
        "print(\"L'ensemble de mes cinq numéros choisis est\", mes_numeros,\" et l'ensemble de mes deux étoiles choisies est\", mes_etoiles)"
      ]
    },
    {
      "cell_type": "code",
      "execution_count": null,
      "id": "0f63bc88",
      "metadata": {
        "colab": {
          "base_uri": "https://localhost:8080/"
        },
        "id": "0f63bc88",
        "outputId": "1cd9cf61-51d7-40b0-8a31-af2a3fe1fbe4"
      },
      "outputs": [
        {
          "output_type": "stream",
          "name": "stdout",
          "text": [
            "L'ensemble des cinq numéros tirés est  [7, 4, 16, 11, 32]  et l'ensemble des deux étoiles tirées est  [9, 6]\n"
          ]
        }
      ],
      "source": [
        "#3\n",
        "def tirages():\n",
        "    numeros=random.sample(range(1,51),5)     #tirage sans remise de 5 nombres entre 1 et 50\n",
        "    etoiles=random.sample(range(1,12),2)     #tirage sans remise de 2 nombres entre 1 et 11\n",
        "    return numeros, etoiles\n",
        "print(\"L'ensemble des cinq numéros tirés est \", tirages()[0], \" et l'ensemble des deux étoiles tirées est \", tirages()[1])\n"
      ]
    },
    {
      "cell_type": "code",
      "execution_count": null,
      "id": "cbb0e5ac",
      "metadata": {
        "colab": {
          "base_uri": "https://localhost:8080/"
        },
        "id": "cbb0e5ac",
        "outputId": "9e23adb0-92b3-4d1c-e95b-fdb59d9c2a24"
      },
      "outputs": [
        {
          "output_type": "stream",
          "name": "stdout",
          "text": [
            "J'ai obtenu 0 bon(s) numéro(s) et 0 bonne(s) étoile(s)\n"
          ]
        }
      ],
      "source": [
        "#4\n",
        "def resultat(mes_numeros, mes_etoiles, numeros, etoiles):\n",
        "    a=0\n",
        "    b=0\n",
        "    for i in range(len(numeros)):\n",
        "        if numeros[i] in mes_numeros:\n",
        "            a+=1\n",
        "    for j in range(len(etoiles)):\n",
        "        if etoiles[j] in mes_etoiles:\n",
        "            b+=1\n",
        "    return a,b\n",
        "print(\"J'ai obtenu\",resultat(mes_numeros, mes_etoiles, tirages()[0], tirages()[1])[0], \"bon(s) numéro(s) et\", resultat(mes_numeros, mes_etoiles, tirages()[0], tirages()[1])[1],\"bonne(s) étoile(s)\" )\n"
      ]
    },
    {
      "cell_type": "code",
      "execution_count": null,
      "id": "826d18c8",
      "metadata": {
        "colab": {
          "base_uri": "https://localhost:8080/"
        },
        "id": "826d18c8",
        "outputId": "872c41d1-1c49-414f-c704-4812e492b65e"
      },
      "outputs": [
        {
          "output_type": "stream",
          "name": "stdout",
          "text": [
            "Les numéros tirés sont [22, 24, 43, 13, 31] et les étoiles sont [11, 9] .\n",
            "Pour ce jeu, j'ai gagné 0 euros.\n"
          ]
        }
      ],
      "source": [
        "#5\n",
        "def donner_gains(n,e):\n",
        "    if n==5:\n",
        "        if e==2:return 15000000\n",
        "        elif e==1:return 310751\n",
        "        else:return 51792\n",
        "    elif n==4:\n",
        "        if e==2:return 4143\n",
        "        elif e==1:return 201\n",
        "        else:return 101\n",
        "    elif n==3:\n",
        "        if e==2:return 59\n",
        "        elif e==1:return 14\n",
        "        else:return 12\n",
        "    elif n==2:\n",
        "        if e==2:return 19\n",
        "        elif e==1:return 8\n",
        "        else:return 4\n",
        "    elif n==1:\n",
        "        if e==2:return 10\n",
        "        else:return 0\n",
        "    else: return 0\n",
        "\n",
        "\n",
        "x=tirages()[0]\n",
        "y=tirages()[1]\n",
        "print(\"Les numéros tirés sont\", x, \"et les étoiles sont\", y,\".\")\n",
        "print(\"Pour ce jeu, j'ai gagné\", donner_gains(resultat(mes_numeros, mes_etoiles, x, y)[0],resultat(mes_numeros, mes_etoiles, x, y)[1]), \"euros.\")\n",
        "\n"
      ]
    },
    {
      "cell_type": "code",
      "execution_count": null,
      "id": "81190b74",
      "metadata": {
        "colab": {
          "base_uri": "https://localhost:8080/"
        },
        "id": "81190b74",
        "outputId": "e3b6dcd4-343e-4f08-c7ff-30bbd890a119"
      },
      "outputs": [
        {
          "output_type": "stream",
          "name": "stdout",
          "text": [
            "Après avoir joué 100 fois j'ai gagné -212.0 euros. Pour chaque jeu, j'ai donc un gains moyen de -2.02 euros.\n"
          ]
        }
      ],
      "source": [
        "#6\n",
        "def simulation():\n",
        "    total_gains=0\n",
        "    for i in range(nb_simulations):\n",
        "        numeros,etoiles=tirages()\n",
        "        n,e=resultat(mes_numeros, mes_etoiles, numeros, etoiles)\n",
        "        gains=donner_gains(n,e) - prix_ticket\n",
        "        total_gains+=gains\n",
        "    return total_gains\n",
        "print(\"Après avoir joué\", nb_simulations, \"fois\", \"j'ai gagné\", simulation(), \"euros. Pour chaque jeu, j'ai donc un gains moyen de\", simulation()/nb_simulations, \"euros.\")\n"
      ]
    },
    {
      "cell_type": "markdown",
      "source": [
        "#Exercice 4"
      ],
      "metadata": {
        "id": "YwM9eK5CIZry"
      },
      "id": "YwM9eK5CIZry"
    },
    {
      "cell_type": "code",
      "execution_count": null,
      "id": "2ae58aad",
      "metadata": {
        "colab": {
          "base_uri": "https://localhost:8080/"
        },
        "id": "2ae58aad",
        "outputId": "68e409cf-919c-44b7-e18b-a6d9d7045523"
      },
      "outputs": [
        {
          "output_type": "stream",
          "name": "stdout",
          "text": [
            "3.5\n"
          ]
        },
        {
          "output_type": "execute_result",
          "data": {
            "text/plain": [
              "1.5"
            ]
          },
          "metadata": {},
          "execution_count": 8
        }
      ],
      "source": [
        "def esperance(loi):\n",
        "    result=0\n",
        "    for v in loi:\n",
        "        result+= v[0]*v[1]\n",
        "    return result\n",
        "\n",
        "\n",
        "loi_X=[[1,1/6],[2,1/6],[3,1/6],[4,1/6],[5,1/6],[6,1/6]]\n",
        "print(esperance(loi_X))\n",
        "\n",
        "loi_Y=[[0,1/8],[1,3/8],[2,3/8],[3,1/8]]\n",
        "esperance(loi_Y)"
      ]
    },
    {
      "cell_type": "markdown",
      "source": [
        "# Exercice 5\n"
      ],
      "metadata": {
        "id": "CpiEZp0nIeoo"
      },
      "id": "CpiEZp0nIeoo"
    },
    {
      "cell_type": "code",
      "execution_count": null,
      "id": "7ee878d9",
      "metadata": {
        "colab": {
          "base_uri": "https://localhost:8080/"
        },
        "id": "7ee878d9",
        "outputId": "b915ffdb-6b94-4027-8ec5-553793f616ba"
      },
      "outputs": [
        {
          "output_type": "stream",
          "name": "stdout",
          "text": [
            "N=1000\n",
            "La valeur exacte de pivaut  3.141592653589793\n",
            "Une valeur approchée de pi vaut  3.184\n"
          ]
        }
      ],
      "source": [
        "import math\n",
        "import random\n",
        "N=int(input(\"N=\"))\n",
        "n=0\n",
        "for i in range(N):\n",
        "    x=random.uniform(-1,1)                #On génère aléatoirement un nombre flotant entre [-1,1] (bornes comprises)\n",
        "    y=random.uniform(-1,1)\n",
        "    if (x**2+y**2)**0.5 <= 1:\n",
        "        n=n+1                                               #On compte le nombre de couples (x,y) qui tombent dans le disque unité\n",
        "print(\"La valeur exacte de pivaut \", math.pi)\n",
        "print(\"Une valeur approchée de pi vaut \", 4*(n/N) )"
      ]
    },
    {
      "cell_type": "markdown",
      "source": [
        "#Exercice 6"
      ],
      "metadata": {
        "id": "BzcI6P6bIkGm"
      },
      "id": "BzcI6P6bIkGm"
    },
    {
      "cell_type": "code",
      "execution_count": null,
      "id": "d7b9fc72",
      "metadata": {
        "colab": {
          "base_uri": "https://localhost:8080/"
        },
        "id": "d7b9fc72",
        "outputId": "324edcc2-5266-4216-af8f-b25a2449d095"
      },
      "outputs": [
        {
          "output_type": "stream",
          "name": "stdout",
          "text": [
            "Combien de lancers souhaitez-vous effectuer? : 100\n",
            "Lors des 100 tirages, vous avez eu la face numéro 3 à 18 reprise(s).\n"
          ]
        }
      ],
      "source": [
        "import random\n",
        "#1\n",
        "nb=int(input(\"Combien de lancers souhaitez-vous effectuer? : \"))\n",
        "cpt=0\n",
        "for i in range(nb):\n",
        "    x=random.randint(1,6)\n",
        "    if x==3:\n",
        "        cpt=cpt+1\n",
        "print(\"Lors des\", nb, \"tirages, vous avez eu la face numéro 3 à\", cpt, \"reprise(s).\")\n"
      ]
    },
    {
      "cell_type": "code",
      "execution_count": null,
      "id": "aa6a4c4a",
      "metadata": {
        "colab": {
          "base_uri": "https://localhost:8080/"
        },
        "id": "aa6a4c4a",
        "outputId": "88ae1580-cfeb-4065-9fd9-298017494c3c"
      },
      "outputs": [
        {
          "output_type": "stream",
          "name": "stdout",
          "text": [
            "La proportion de 3 obtenus vaut 0.18\n"
          ]
        }
      ],
      "source": [
        "#2\n",
        "print(\"La proportion de 3 obtenus vaut\", cpt/nb)\n",
        "\n"
      ]
    },
    {
      "cell_type": "markdown",
      "source": [
        "3 et 4)\n",
        "D'après la loi forte des grands nombres, plus le nombre d'essais est grand, plus on se rapproche de , 1/6, qui est la probabilité d'obtenir la face numéro 3 lors d'un seul essai."
      ],
      "metadata": {
        "id": "p4eMtvw3UIC9"
      },
      "id": "p4eMtvw3UIC9"
    },
    {
      "cell_type": "code",
      "source": [
        "#5\n",
        "L=[]\n",
        "for i in range(nb):\n",
        "    x=random.randint(1,6)\n",
        "    L.append(x)\n",
        "print(\"La liste des tirages obtenus vaut L=\", L,\". Elle est de longeur\", len(L))"
      ],
      "metadata": {
        "colab": {
          "base_uri": "https://localhost:8080/"
        },
        "id": "TaLpXleKTGoH",
        "outputId": "1065098c-c2aa-405b-d258-2569b077630f"
      },
      "id": "TaLpXleKTGoH",
      "execution_count": null,
      "outputs": [
        {
          "output_type": "stream",
          "name": "stdout",
          "text": [
            "La liste des tirages obtenus vaut L= [1, 2, 6, 1, 3, 3, 5, 4, 2, 5, 1, 4, 2, 3, 4, 6, 2, 3, 3, 5, 2, 3, 6, 5, 4, 4, 6, 5, 5, 1, 6, 5, 4, 6, 1, 1, 5, 3, 4, 5, 2, 1, 5, 5, 5, 4, 1, 6, 6, 5, 3, 2, 2, 1, 3, 6, 1, 6, 2, 6, 1, 2, 5, 2, 2, 4, 6, 3, 5, 3, 3, 1, 3, 3, 6, 3, 2, 3, 6, 3, 5, 5, 5, 2, 6, 1, 6, 3, 2, 3, 4, 2, 5, 1, 1, 1, 5, 4, 4, 1] . Elle est de longeur 100\n"
          ]
        }
      ]
    },
    {
      "cell_type": "code",
      "source": [
        "#6\n",
        "\n",
        "print(\"La liste des éléments de L, l'un après l'autre est donnée par: \")\n",
        "for i in range(nb):\n",
        "    print(L[i])"
      ],
      "metadata": {
        "colab": {
          "base_uri": "https://localhost:8080/"
        },
        "id": "ls7rrhfGTLov",
        "outputId": "ae1c509a-10b1-45d9-be90-4134f8a284da"
      },
      "id": "ls7rrhfGTLov",
      "execution_count": null,
      "outputs": [
        {
          "output_type": "stream",
          "name": "stdout",
          "text": [
            "La liste des éléments de L, l'un après l'autre est donnée par: \n",
            "1\n",
            "2\n",
            "6\n",
            "1\n",
            "3\n",
            "3\n",
            "5\n",
            "4\n",
            "2\n",
            "5\n",
            "1\n",
            "4\n",
            "2\n",
            "3\n",
            "4\n",
            "6\n",
            "2\n",
            "3\n",
            "3\n",
            "5\n",
            "2\n",
            "3\n",
            "6\n",
            "5\n",
            "4\n",
            "4\n",
            "6\n",
            "5\n",
            "5\n",
            "1\n",
            "6\n",
            "5\n",
            "4\n",
            "6\n",
            "1\n",
            "1\n",
            "5\n",
            "3\n",
            "4\n",
            "5\n",
            "2\n",
            "1\n",
            "5\n",
            "5\n",
            "5\n",
            "4\n",
            "1\n",
            "6\n",
            "6\n",
            "5\n",
            "3\n",
            "2\n",
            "2\n",
            "1\n",
            "3\n",
            "6\n",
            "1\n",
            "6\n",
            "2\n",
            "6\n",
            "1\n",
            "2\n",
            "5\n",
            "2\n",
            "2\n",
            "4\n",
            "6\n",
            "3\n",
            "5\n",
            "3\n",
            "3\n",
            "1\n",
            "3\n",
            "3\n",
            "6\n",
            "3\n",
            "2\n",
            "3\n",
            "6\n",
            "3\n",
            "5\n",
            "5\n",
            "5\n",
            "2\n",
            "6\n",
            "1\n",
            "6\n",
            "3\n",
            "2\n",
            "3\n",
            "4\n",
            "2\n",
            "5\n",
            "1\n",
            "1\n",
            "1\n",
            "5\n",
            "4\n",
            "4\n",
            "1\n"
          ]
        }
      ]
    },
    {
      "cell_type": "code",
      "source": [
        "#7\n",
        "print(\"Le dernier élément de L vaut\", L[nb-1])"
      ],
      "metadata": {
        "colab": {
          "base_uri": "https://localhost:8080/"
        },
        "id": "KlpPbh18TS3q",
        "outputId": "647fb85d-7963-42ed-884e-8552546173cd"
      },
      "id": "KlpPbh18TS3q",
      "execution_count": null,
      "outputs": [
        {
          "output_type": "stream",
          "name": "stdout",
          "text": [
            "Le dernier élément de L vaut 1\n"
          ]
        }
      ]
    },
    {
      "cell_type": "code",
      "execution_count": null,
      "id": "66ecf9d9",
      "metadata": {
        "colab": {
          "base_uri": "https://localhost:8080/"
        },
        "id": "66ecf9d9",
        "outputId": "e4d43f93-2f2a-4ee8-b4fb-97aae067d533"
      },
      "outputs": [
        {
          "output_type": "stream",
          "name": "stdout",
          "text": [
            "On obtient le numéro 3 deux fois consécutives à  4 reprise(s)\n"
          ]
        }
      ],
      "source": [
        "#8\n",
        "j=0\n",
        "cpt2=0\n",
        "while j<nb-1:\n",
        "    if L[j]==3 and L[j+1]==3:\n",
        "        cpt2=cpt2+1\n",
        "    j=j+1\n",
        "print(\"On obtient le numéro 3 deux fois consécutives à \", cpt2, \"reprise(s)\")\n"
      ]
    }
  ],
  "metadata": {
    "kernelspec": {
      "display_name": "Python 3 (ipykernel)",
      "language": "python",
      "name": "python3"
    },
    "language_info": {
      "codemirror_mode": {
        "name": "ipython",
        "version": 3
      },
      "file_extension": ".py",
      "mimetype": "text/x-python",
      "name": "python",
      "nbconvert_exporter": "python",
      "pygments_lexer": "ipython3",
      "version": "3.11.4"
    },
    "colab": {
      "provenance": [],
      "collapsed_sections": [
        "k6-ldS2nHnJR",
        "TZdZv5nwH6mm",
        "JfJHoTlOIPfs",
        "YwM9eK5CIZry",
        "BzcI6P6bIkGm"
      ]
    }
  },
  "nbformat": 4,
  "nbformat_minor": 5
}